{
 "cells": [
  {
   "cell_type": "code",
<<<<<<< Updated upstream
   "execution_count": 18,
=======
   "execution_count": 2,
>>>>>>> Stashed changes
   "id": "850c357d",
   "metadata": {},
   "outputs": [],
   "source": [
    "import json\n",
    "import numpy as np"
   ]
  },
  {
   "cell_type": "code",
<<<<<<< Updated upstream
   "execution_count": 19,
=======
   "execution_count": 3,
>>>>>>> Stashed changes
   "id": "91310065",
   "metadata": {},
   "outputs": [],
   "source": [
<<<<<<< Updated upstream
    "sources = [\"out/out/result_llama-2-13b-chat_gsm8k_decomp_llama-2-13b-chat_direct_t0.json\",\n",
    "          'out/out/result_llama-2-13b-chat_gsm8k_decomp_llama-2-13b-chat_mathreg_t0.json']"
=======
    "sources = [\"result_test_with_ids_llama-2-13b-chat_fewshot.json\",\n",
    "          'one_off_code34B_gsm8k_no_decomp_with_code_and_answer.json',\n",
    "          'one_off_llama-2-7b-chat_code34B_gsm8k_decomp_with_code_and_answer.json',]"
>>>>>>> Stashed changes
   ]
  },
  {
   "cell_type": "code",
<<<<<<< Updated upstream
   "execution_count": 20,
=======
   "execution_count": 11,
>>>>>>> Stashed changes
   "id": "2cf26378",
   "metadata": {},
   "outputs": [
    {
     "name": "stdout",
     "output_type": "stream",
     "text": [
<<<<<<< Updated upstream
      "out/out/result_llama-2-13b-chat_gsm8k_decomp_llama-2-13b-chat_direct_t0.json\n",
      "0.28278999241849884\n",
      " \n",
      "out/out/result_llama-2-13b-chat_gsm8k_decomp_llama-2-13b-chat_mathreg_t0.json\n",
      "0.27824109173616374\n",
      " \n"
=======
      "224\n"
>>>>>>> Stashed changes
     ]
    }
   ],
   "source": [
    "from pathlib import Path\n",
    "root = Path(\"./out/\")\n",
    "with open(root / sources[0], 'r') as f:\n",
    "    data1 = json.load(f)\n",
    "with open(root / sources[1], 'r') as f:\n",
    "    data2 = json.load(f)\n",
    "with open(root / sources[2], 'r') as f:\n",
    "    data3 = json.load(f)\n",
    "cnt = 0\n",
    "for i, j, k in zip(data1, data2, data3):\n",
    "    try:\n",
    "        i_answer = float(i['answer'].split(\"#### \")[-1])\n",
    "    except:\n",
    "        i_answer = 0\n",
    "    \n",
    "    try:\n",
    "        j_answer = float(j['final_ans'].split(\"#### \")[-1])\n",
    "    except:\n",
    "        j_answer = 0\n",
    "    try:\n",
    "        k_answer = float(k['final_ans'].split(\"#### \")[-1])\n",
    "    except:\n",
    "        k_answer = 0\n",
    "\n",
    "    try:\n",
    "        i['model_answer'] = float(i['model_answer'])\n",
    "    except:\n",
    "        i['model_answer'] = 0\n",
    "    try:\n",
    "        j['answer'] = float(j['answer'])\n",
    "    except:\n",
    "        j['answer'] = 0\n",
    "    try:\n",
    "        k['answer'] = float(k['answer'])\n",
    "    except:\n",
    "        k['answer'] = 0\n",
    "    \n",
    "\n",
    "    if abs(i['model_answer'] - i_answer) > 1e-5 and abs(j['answer'] - j_answer) > 1e-5 and abs(k['answer'] - k_answer) < 1e-5:\n",
    "        cnt += 1\n",
    "print(cnt)\n"
   ]
  },
  {
   "cell_type": "code",
   "execution_count": 21,
   "id": "cd9e73c4",
   "metadata": {},
   "outputs": [],
   "source": [
    "misclassify = []\n",
    "for wrong in incorrect[1]:\n",
    "    if wrong not in incorrect[0]:\n",
    "        misclassify.append(wrong)\n",
    "misclassify = np.array(misclassify)"
   ]
  },
  {
   "cell_type": "code",
   "execution_count": 22,
   "id": "7c6d0a57",
   "metadata": {},
   "outputs": [
    {
     "data": {
      "text/plain": [
       "61"
      ]
     },
     "execution_count": 22,
     "metadata": {},
     "output_type": "execute_result"
    }
   ],
   "source": [
    "len(misclassify)"
   ]
  },
  {
   "cell_type": "code",
   "execution_count": 28,
   "id": "dcda5cdc",
   "metadata": {},
   "outputs": [
    {
     "name": "stdout",
     "output_type": "stream",
     "text": [
      "Question 5: If Raymond does half as much laundry as Sarah, and Sarah does 4 times as much laundry as David, calculate the difference in the amount of laundry Raymond and David do if Sarah does 400 pounds of laundry.\n",
      "Question 5.1: How much laundry does Sarah do?\n",
      "Answer 5.1: 400 pounds.\n",
      "\n",
      "Question 5.2: Now we can answer the question: What is the difference in the amount of laundry Raymond and David do?\n",
      "Answer 5.2: 400 pounds is 4 times as much as the amount of laundry David does. So David does 400 / 4 = 100 pounds of laundry. Raymond does half as much laundry as Sarah, so he does 400 / 2 = 200 pounds of laundry. The difference between their laundry is 200 - 100 = 100 pounds. The answer is 100.\n"
     ]
    }
   ],
   "source": [
    "file_path = sources[0]\n",
    "\n",
    "with open(file_path, 'r') as file:\n",
    "    data = json.load(file)\n",
    "data = np.array(data)\n",
    "for question in data[misclassify[5:6]]:\n",
    "    print(question['sub_questions_answers'][question['sub_questions_answers'].index(\"Question 5:\"):])"
   ]
  },
  {
   "cell_type": "code",
   "execution_count": 29,
   "id": "d26618d1",
   "metadata": {},
   "outputs": [
    {
     "name": "stdout",
     "output_type": "stream",
     "text": [
      "Question 5: If Raymond does half as much laundry as Sarah, and Sarah does 4 times as much laundry as David, calculate the difference in the amount of laundry Raymond and David do if Sarah does 400 pounds of laundry.\n",
      "Question 5.1: How much laundry does Sarah do?\n",
      "Answer 5.1: 400 pounds.\n",
      "Question 5.2: Now we can answer the question: What is the difference in the amount of laundry Raymond and David do?\n",
      "Answer 5.2: 400 is 4 times as much as x. So x = 400 / 4 = 100 pounds. The difference in the amount of laundry Raymond and David do is 400 - 100 = 300 pounds. The answer is 300 .\n"
     ]
    }
   ],
   "source": [
    "file_path = sources[1]\n",
    "\n",
    "with open(file_path, 'r') as file:\n",
    "    data = json.load(file)\n",
    "data = np.array(data)\n",
    "for question in data[misclassify[5:6]]:\n",
    "    print(question['sub_questions_answers'][question['sub_questions_answers'].index(\"Question 5:\"):])"
   ]
  },
  {
   "cell_type": "code",
   "execution_count": null,
   "id": "1d9719fc",
   "metadata": {},
   "outputs": [],
   "source": []
  },
  {
   "cell_type": "code",
   "execution_count": null,
   "id": "d77c13d3",
   "metadata": {},
   "outputs": [],
   "source": []
  }
 ],
 "metadata": {
  "kernelspec": {
   "display_name": "Python 3 (ipykernel)",
   "language": "python",
   "name": "python3"
  },
  "language_info": {
   "codemirror_mode": {
    "name": "ipython",
    "version": 3
   },
   "file_extension": ".py",
   "mimetype": "text/x-python",
   "name": "python",
   "nbconvert_exporter": "python",
   "pygments_lexer": "ipython3",
   "version": "3.11.4"
  }
 },
 "nbformat": 4,
 "nbformat_minor": 5
}
