{
 "cells": [
  {
   "cell_type": "code",
   "execution_count": 18,
   "id": "850c357d",
   "metadata": {},
   "outputs": [],
   "source": [
    "import json\n",
    "import numpy as np"
   ]
  },
  {
   "cell_type": "code",
   "execution_count": 19,
   "id": "91310065",
   "metadata": {},
   "outputs": [],
   "source": [
    "sources = [\"out/out/result_llama-2-13b-chat_gsm8k_decomp_llama-2-13b-chat_direct_t0.json\",\n",
    "          'out/out/result_llama-2-13b-chat_gsm8k_decomp_llama-2-13b-chat_mathreg_t0.json']"
   ]
  },
  {
   "cell_type": "code",
   "execution_count": 20,
   "id": "2cf26378",
   "metadata": {},
   "outputs": [
    {
     "name": "stdout",
     "output_type": "stream",
     "text": [
      "out/out/result_llama-2-13b-chat_gsm8k_decomp_llama-2-13b-chat_direct_t0.json\n",
      "0.28278999241849884\n",
      " \n",
      "out/out/result_llama-2-13b-chat_gsm8k_decomp_llama-2-13b-chat_mathreg_t0.json\n",
      "0.27824109173616374\n",
      " \n"
     ]
    }
   ],
   "source": [
    "eval_mode = True\n",
    "incorrect = []\n",
    "for src in sources:\n",
    "    cur_incorrect = []\n",
    "    print(src)\n",
    "    if 'shot' in src:\n",
    "        # eval mode for the baseline methods\n",
    "        eval_mode = False\n",
    "    num_correct = 0\n",
    "    num_tot = 0\n",
    "    with open(src, \"r\") as f:\n",
    "        res = json.load(f)\n",
    "        for i, item in enumerate(res):\n",
    "            if eval_mode:\n",
    "                gt = item[\"final_ans\"]\n",
    "                out = item[\"answer\"]\n",
    "            elif eval_mode == False:\n",
    "                # gsm8k\n",
    "                if 'result_test_with_ids_llama' in src:\n",
    "                    gt = item['answer']\n",
    "                    out = item['model_answer']\n",
    "                # multiarith\n",
    "                elif 'result_test_llama' in src:\n",
    "                    gt = item['final_ans']\n",
    "                    out = item['model_answer']\n",
    "    \n",
    "            if \"gsm8k\" in src or 'result_test_with_ids_llama' in src:\n",
    "                gt = gt.split(\"#### \")[-1]\n",
    "            try:\n",
    "                if abs(float(gt) - float(out)) <= 1e-5:\n",
    "                    num_correct += 1\n",
    "                else:\n",
    "                    cur_incorrect.append(i)\n",
    "            except:\n",
    "                cur_incorrect.append(i)\n",
    "                num_correct += 0\n",
    "            \n",
    "            num_tot += 1\n",
    "    incorrect.append(cur_incorrect)\n",
    "    print(num_correct / num_tot)\n",
    "    print(\" \")"
   ]
  },
  {
   "cell_type": "code",
   "execution_count": 21,
   "id": "cd9e73c4",
   "metadata": {},
   "outputs": [],
   "source": [
    "misclassify = []\n",
    "for wrong in incorrect[1]:\n",
    "    if wrong not in incorrect[0]:\n",
    "        misclassify.append(wrong)\n",
    "misclassify = np.array(misclassify)"
   ]
  },
  {
   "cell_type": "code",
   "execution_count": 22,
   "id": "7c6d0a57",
   "metadata": {},
   "outputs": [
    {
     "data": {
      "text/plain": [
       "61"
      ]
     },
     "execution_count": 22,
     "metadata": {},
     "output_type": "execute_result"
    }
   ],
   "source": [
    "len(misclassify)"
   ]
  },
  {
   "cell_type": "code",
   "execution_count": 28,
   "id": "dcda5cdc",
   "metadata": {},
   "outputs": [
    {
     "name": "stdout",
     "output_type": "stream",
     "text": [
      "Question 5: If Raymond does half as much laundry as Sarah, and Sarah does 4 times as much laundry as David, calculate the difference in the amount of laundry Raymond and David do if Sarah does 400 pounds of laundry.\n",
      "Question 5.1: How much laundry does Sarah do?\n",
      "Answer 5.1: 400 pounds.\n",
      "\n",
      "Question 5.2: Now we can answer the question: What is the difference in the amount of laundry Raymond and David do?\n",
      "Answer 5.2: 400 pounds is 4 times as much as the amount of laundry David does. So David does 400 / 4 = 100 pounds of laundry. Raymond does half as much laundry as Sarah, so he does 400 / 2 = 200 pounds of laundry. The difference between their laundry is 200 - 100 = 100 pounds. The answer is 100.\n"
     ]
    }
   ],
   "source": [
    "file_path = sources[0]\n",
    "\n",
    "with open(file_path, 'r') as file:\n",
    "    data = json.load(file)\n",
    "data = np.array(data)\n",
    "for question in data[misclassify[5:6]]:\n",
    "    print(question['sub_questions_answers'][question['sub_questions_answers'].index(\"Question 5:\"):])"
   ]
  },
  {
   "cell_type": "code",
   "execution_count": 29,
   "id": "d26618d1",
   "metadata": {},
   "outputs": [
    {
     "name": "stdout",
     "output_type": "stream",
     "text": [
      "Question 5: If Raymond does half as much laundry as Sarah, and Sarah does 4 times as much laundry as David, calculate the difference in the amount of laundry Raymond and David do if Sarah does 400 pounds of laundry.\n",
      "Question 5.1: How much laundry does Sarah do?\n",
      "Answer 5.1: 400 pounds.\n",
      "Question 5.2: Now we can answer the question: What is the difference in the amount of laundry Raymond and David do?\n",
      "Answer 5.2: 400 is 4 times as much as x. So x = 400 / 4 = 100 pounds. The difference in the amount of laundry Raymond and David do is 400 - 100 = 300 pounds. The answer is 300 .\n"
     ]
    }
   ],
   "source": [
    "file_path = sources[1]\n",
    "\n",
    "with open(file_path, 'r') as file:\n",
    "    data = json.load(file)\n",
    "data = np.array(data)\n",
    "for question in data[misclassify[5:6]]:\n",
    "    print(question['sub_questions_answers'][question['sub_questions_answers'].index(\"Question 5:\"):])"
   ]
  },
  {
   "cell_type": "code",
   "execution_count": null,
   "id": "1d9719fc",
   "metadata": {},
   "outputs": [],
   "source": []
  },
  {
   "cell_type": "code",
   "execution_count": null,
   "id": "d77c13d3",
   "metadata": {},
   "outputs": [],
   "source": []
  }
 ],
 "metadata": {
  "kernelspec": {
   "display_name": "Python 3 (ipykernel)",
   "language": "python",
   "name": "python3"
  },
  "language_info": {
   "codemirror_mode": {
    "name": "ipython",
    "version": 3
   },
   "file_extension": ".py",
   "mimetype": "text/x-python",
   "name": "python",
   "nbconvert_exporter": "python",
   "pygments_lexer": "ipython3",
   "version": "3.11.6"
  }
 },
 "nbformat": 4,
 "nbformat_minor": 5
}
