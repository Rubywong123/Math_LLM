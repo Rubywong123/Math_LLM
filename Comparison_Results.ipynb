{
 "cells": [
  {
   "cell_type": "code",
   "execution_count": 83,
   "id": "850c357d",
   "metadata": {},
   "outputs": [],
   "source": [
    "import json\n",
    "import numpy as np"
   ]
  },
  {
   "cell_type": "code",
   "execution_count": 96,
   "id": "91310065",
   "metadata": {},
   "outputs": [],
   "source": [
    "sources = [\"result_llama-2-7b-chat_gsm8k_decomp_llama-2-7b-chat_direct.json\",\n",
    "          'result_llama-2-7b-chat_gsm8k_decomp_llama-2-7b-chat_mathreg.json']"
   ]
  },
  {
   "cell_type": "code",
   "execution_count": 97,
   "id": "2cf26378",
   "metadata": {},
   "outputs": [
    {
     "name": "stdout",
     "output_type": "stream",
     "text": [
      "result_llama-2-7b-chat_gsm8k_decomp_llama-2-7b-chat_direct.json\n",
      "0.18802122820318423\n",
      " \n",
      "result_llama-2-7b-chat_gsm8k_decomp_llama-2-7b-chat_mathreg.json\n",
      "0.18802122820318423\n",
      " \n"
     ]
    }
   ],
   "source": [
    "eval_mode = True\n",
    "incorrect = []\n",
    "for src in sources:\n",
    "    cur_incorrect = []\n",
    "    print(src)\n",
    "    if 'shot' in src:\n",
    "        # eval mode for the baseline methods\n",
    "        eval_mode = False\n",
    "    num_correct = 0\n",
    "    num_tot = 0\n",
    "    with open(src, \"r\") as f:\n",
    "        res = json.load(f)\n",
    "        for i, item in enumerate(res):\n",
    "            if eval_mode:\n",
    "                gt = item[\"final_ans\"]\n",
    "                out = item[\"answer\"]\n",
    "            elif eval_mode == False:\n",
    "                # gsm8k\n",
    "                if 'result_test_with_ids_llama' in src:\n",
    "                    gt = item['answer']\n",
    "                    out = item['model_answer']\n",
    "                # multiarith\n",
    "                elif 'result_test_llama' in src:\n",
    "                    gt = item['final_ans']\n",
    "                    out = item['model_answer']\n",
    "    \n",
    "            if \"gsm8k\" in src or 'result_test_with_ids_llama' in src:\n",
    "                gt = gt.split(\"#### \")[-1]\n",
    "            try:\n",
    "                if abs(float(gt) - float(out)) <= 1e-5:\n",
    "                    num_correct += 1\n",
    "                else:\n",
    "                    cur_incorrect.append(i)\n",
    "            except:\n",
    "                cur_incorrect.append(i)\n",
    "                num_correct += 0\n",
    "            \n",
    "            num_tot += 1\n",
    "    incorrect.append(cur_incorrect)\n",
    "    print(num_correct / num_tot)\n",
    "    print(\" \")"
   ]
  },
  {
   "cell_type": "code",
   "execution_count": 98,
   "id": "cd9e73c4",
   "metadata": {},
   "outputs": [],
   "source": [
    "misclassify = []\n",
    "for wrong in incorrect[0]:\n",
    "    if wrong not in incorrect[1]:\n",
    "        misclassify.append(wrong)\n",
    "misclassify = np.array(misclassify)"
   ]
  },
  {
   "cell_type": "code",
   "execution_count": 99,
   "id": "7c6d0a57",
   "metadata": {},
   "outputs": [
    {
     "data": {
      "text/plain": [
       "83"
      ]
     },
     "execution_count": 99,
     "metadata": {},
     "output_type": "execute_result"
    }
   ],
   "source": [
    "len(misclassify)"
   ]
  },
  {
   "cell_type": "code",
   "execution_count": 92,
   "id": "dcda5cdc",
   "metadata": {},
   "outputs": [
    {
     "name": "stdout",
     "output_type": "stream",
     "text": [
      "Question 5: Kyle bought last year's best-selling book for $19.50. This is with a 25% discount from the original price. What was the original price of the book?\n",
      "Question 5.1: What was the original price of the book before the discount?\n",
      "Answer 5.1: The original price of the book before the discount was $19.50 / 0.75 = $26.00.\n",
      "\n",
      "Question 5.2: Now we can answer the question: What was the original price of the book?\n",
      "Answer 5.2: The original price of the book was $26.00. The answer is $26.00.\n",
      "\n"
     ]
    }
   ],
   "source": [
    "file_path = 'result_llama-2-7b-chat_gsm8k_decomp_llama-2-13b-chat_direct.json'\n",
    "\n",
    "with open(file_path, 'r') as file:\n",
    "    data = json.load(file)\n",
    "data = np.array(data)\n",
    "for question in data[misclassify[2:3]]:\n",
    "    print(question['sub_questions_answers'][question['sub_questions_answers'].index(\"Question 5:\"):])"
   ]
  },
  {
   "cell_type": "code",
   "execution_count": 93,
   "id": "d26618d1",
   "metadata": {},
   "outputs": [
    {
     "name": "stdout",
     "output_type": "stream",
     "text": [
      "Question 5: Kyle bought last year's best-selling book for $19.50. This is with a 25% discount from the original price. What was the original price of the book?\n",
      "Question 5.1: What was the original price of the book before the discount?\n",
      "Answer 5.1: The original price of the book was 25% higher than the price Kyle paid. So the original price was $19.50 * 1.25 = $24.375000 .\n",
      "Question 5.2: Now we can answer the question: What was the original price of the book?\n",
      "Answer 5.2: 24 dollars and 37 cents. The answer is $24.375000 .\n"
     ]
    }
   ],
   "source": [
    "file_path = 'result_llama-2-7b-chat_gsm8k_decomp_llama-2-13b-chat_mathreg.json'\n",
    "\n",
    "with open(file_path, 'r') as file:\n",
    "    data = json.load(file)\n",
    "data = np.array(data)\n",
    "for question in data[misclassify[2:3]]:\n",
    "    print(question['sub_questions_answers'][question['sub_questions_answers'].index(\"Question 5:\"):])"
   ]
  },
  {
   "cell_type": "code",
   "execution_count": null,
   "id": "1d9719fc",
   "metadata": {},
   "outputs": [],
   "source": []
  },
  {
   "cell_type": "code",
   "execution_count": null,
   "id": "d77c13d3",
   "metadata": {},
   "outputs": [],
   "source": []
  }
 ],
 "metadata": {
  "kernelspec": {
   "display_name": "Python 3 (ipykernel)",
   "language": "python",
   "name": "python3"
  },
  "language_info": {
   "codemirror_mode": {
    "name": "ipython",
    "version": 3
   },
   "file_extension": ".py",
   "mimetype": "text/x-python",
   "name": "python",
   "nbconvert_exporter": "python",
   "pygments_lexer": "ipython3",
   "version": "3.11.6"
  }
 },
 "nbformat": 4,
 "nbformat_minor": 5
}
