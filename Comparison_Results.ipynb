{
 "cells": [
  {
   "cell_type": "code",
   "execution_count": 21,
   "id": "d26618d1",
   "metadata": {},
   "outputs": [
    {
     "name": "stdout",
     "output_type": "stream",
     "text": [
      "Question 5:  Paige had 11 songs on her mp3 player. If she deleted 9 old songs from it and then added 8 new songs, how many songs does she have on her mp3 player? \n",
      "Question 5.1: How many songs did Paige delete from her mp3 player?\n",
      "Answer 5.1: 9 old songs were deleted from her mp3 player.\n",
      "\n",
      "Question 5.2: How many new songs did Paige add to her mp3 player?\n",
      "Answer 5.2: 8 new songs were added to her mp3 player.\n",
      "\n",
      "Question 5.3: Now we can answer the question: How many songs does Paige have on her mp3 player?\n",
      "Answer 5.3: 11 - 9 = 2 songs were deleted. 8 new songs were added. So Paige has 2 + 8 = 10 songs on her mp3 player. The answer is 10.\n"
     ]
    }
   ],
   "source": [
    "import json\n",
    "\n",
    "file_path = 'result_llama-2-7b-chat_multiarith_decomp_llama-2-7b-chat_direct.json'\n",
    "\n",
    "with open(file_path, 'r') as file:\n",
    "    data = json.load(file)\n",
    "\n",
    "for question in data[:1]:\n",
    "    print(question['sub_questions_answers'][question['sub_questions_answers'].index(\"Question 5:\"):])"
   ]
  },
  {
   "cell_type": "code",
   "execution_count": 20,
   "id": "dcda5cdc",
   "metadata": {},
   "outputs": [
    {
     "name": "stdout",
     "output_type": "stream",
     "text": [
      "Question 5:  Paige had 11 songs on her mp3 player. If she deleted 9 old songs from it and then added 8 new songs, how many songs does she have on her mp3 player? \n",
      "Question 5.1: How many songs did Paige delete from her mp3 player?\n",
      "Answer 5.1: 9 old songs were deleted from her mp3 player.\n",
      "Question 5.2: How many new songs did Paige add to her mp3 player?\n",
      "Answer 5.2: 8 new songs were added to her mp3 player.\n",
      "Question 5.3: Now we can answer the question: How many songs does Paige have on her mp3 player?\n",
      "Answer 5.3: 11 - 9 = 2.000000 songs were deleted from her mp3 player. Then 8 new songs were added to her mp3 player. So Paige has 2 + 8 = 10.000000 songs on her mp3 player. The answer is 2\n"
     ]
    }
   ],
   "source": [
    "file_path = 'result_llama-2-7b-chat_multiarith_decomp_llama-2-7b-chat_mathreg.json'\n",
    "\n",
    "with open(file_path, 'r') as file:\n",
    "    data = json.load(file)\n",
    "\n",
    "for question in data[:1]:\n",
    "    print(question['sub_questions_answers'][question['sub_questions_answers'].index(\"Question 5:\"):])"
   ]
  },
  {
   "cell_type": "code",
   "execution_count": null,
   "id": "1d9719fc",
   "metadata": {},
   "outputs": [],
   "source": []
  },
  {
   "cell_type": "code",
   "execution_count": null,
   "id": "d77c13d3",
   "metadata": {},
   "outputs": [],
   "source": []
  }
 ],
 "metadata": {
  "kernelspec": {
   "display_name": "Python 3 (ipykernel)",
   "language": "python",
   "name": "python3"
  },
  "language_info": {
   "codemirror_mode": {
    "name": "ipython",
    "version": 3
   },
   "file_extension": ".py",
   "mimetype": "text/x-python",
   "name": "python",
   "nbconvert_exporter": "python",
   "pygments_lexer": "ipython3",
   "version": "3.11.6"
  }
 },
 "nbformat": 4,
 "nbformat_minor": 5
}
